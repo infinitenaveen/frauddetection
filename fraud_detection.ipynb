{
  "cells": [
    {
      "cell_type": "markdown",
      "metadata": {
        "id": "view-in-github",
        "colab_type": "text"
      },
      "source": [
        "<a href=\"https://colab.research.google.com/github/infinitenaveen/frauddetection/blob/main/fraud_detection.ipynb\" target=\"_parent\"><img src=\"https://colab.research.google.com/assets/colab-badge.svg\" alt=\"Open In Colab\"/></a>"
      ]
    },
    {
      "cell_type": "markdown",
      "source": [
        "Github Link :"
      ],
      "metadata": {
        "id": "IHzxJieNE4pH"
      }
    },
    {
      "cell_type": "markdown",
      "source": [
        "\n",
        "\n",
        "\n",
        "#FRAUD DETECTION"
      ],
      "metadata": {
        "id": "6_pjeNDuj2yY"
      }
    },
    {
      "cell_type": "code",
      "execution_count": null,
      "metadata": {
        "id": "xV476acaj2M5"
      },
      "outputs": [],
      "source": [
        "import pandas as pd\n",
        "import numpy as np\n",
        "import matplotlib.pyplot as plt\n",
        "import seaborn as sns\n",
        "import warnings\n",
        "warnings.filterwarnings('ignore')\n",
        "\n",
        "#statistical data\n",
        "import scipy.stats as stats\n",
        "\n",
        "#for splitting data and preprocessing\n",
        "from sklearn.model_selection import train_test_split\n",
        "from sklearn.preprocessing import StandardScaler\n",
        "\n",
        "#for sampling\n",
        "from imblearn.over_sampling import SMOTE\n",
        "\n",
        "#for model building\n",
        "import statsmodels.api as sm\n",
        "from sklearn.tree import DecisionTreeClassifier\n",
        "from lightgbm import LGBMClassifier\n",
        "\n",
        "#for model evaluation\n",
        "from sklearn.metrics import f1_score,accuracy_score,confusion_matrix,ConfusionMatrixDisplay,classification_report\n",
        "from sklearn.metrics import recall_score, precision_score"
      ]
    },
    {
      "cell_type": "code",
      "execution_count": null,
      "metadata": {
        "id": "8UHVjQIfj2M6"
      },
      "outputs": [],
      "source": [
        "path = r\"C:\\Users\\MLC\\Documents\\creditcard.csv\"\n",
        "\n",
        "df = pd.read_csv(path)"
      ]
    },
    {
      "cell_type": "code",
      "execution_count": null,
      "metadata": {
        "id": "T7utCxLtj2M7",
        "outputId": "e548df45-2276-4a8b-835e-2d689a5b8200"
      },
      "outputs": [
        {
          "data": {
            "text/html": [
              "<div>\n",
              "<style scoped>\n",
              "    .dataframe tbody tr th:only-of-type {\n",
              "        vertical-align: middle;\n",
              "    }\n",
              "\n",
              "    .dataframe tbody tr th {\n",
              "        vertical-align: top;\n",
              "    }\n",
              "\n",
              "    .dataframe thead th {\n",
              "        text-align: right;\n",
              "    }\n",
              "</style>\n",
              "<table border=\"1\" class=\"dataframe\">\n",
              "  <thead>\n",
              "    <tr style=\"text-align: right;\">\n",
              "      <th></th>\n",
              "      <th>Time</th>\n",
              "      <th>V1</th>\n",
              "      <th>V2</th>\n",
              "      <th>V3</th>\n",
              "      <th>V4</th>\n",
              "      <th>V5</th>\n",
              "      <th>V6</th>\n",
              "      <th>V7</th>\n",
              "      <th>V8</th>\n",
              "      <th>V9</th>\n",
              "      <th>...</th>\n",
              "      <th>V21</th>\n",
              "      <th>V22</th>\n",
              "      <th>V23</th>\n",
              "      <th>V24</th>\n",
              "      <th>V25</th>\n",
              "      <th>V26</th>\n",
              "      <th>V27</th>\n",
              "      <th>V28</th>\n",
              "      <th>Amount</th>\n",
              "      <th>Class</th>\n",
              "    </tr>\n",
              "  </thead>\n",
              "  <tbody>\n",
              "    <tr>\n",
              "      <th>0</th>\n",
              "      <td>0.0</td>\n",
              "      <td>-1.359807</td>\n",
              "      <td>-0.072781</td>\n",
              "      <td>2.536347</td>\n",
              "      <td>1.378155</td>\n",
              "      <td>-0.338321</td>\n",
              "      <td>0.462388</td>\n",
              "      <td>0.239599</td>\n",
              "      <td>0.098698</td>\n",
              "      <td>0.363787</td>\n",
              "      <td>...</td>\n",
              "      <td>-0.018307</td>\n",
              "      <td>0.277838</td>\n",
              "      <td>-0.110474</td>\n",
              "      <td>0.066928</td>\n",
              "      <td>0.128539</td>\n",
              "      <td>-0.189115</td>\n",
              "      <td>0.133558</td>\n",
              "      <td>-0.021053</td>\n",
              "      <td>149.62</td>\n",
              "      <td>0</td>\n",
              "    </tr>\n",
              "    <tr>\n",
              "      <th>1</th>\n",
              "      <td>0.0</td>\n",
              "      <td>1.191857</td>\n",
              "      <td>0.266151</td>\n",
              "      <td>0.166480</td>\n",
              "      <td>0.448154</td>\n",
              "      <td>0.060018</td>\n",
              "      <td>-0.082361</td>\n",
              "      <td>-0.078803</td>\n",
              "      <td>0.085102</td>\n",
              "      <td>-0.255425</td>\n",
              "      <td>...</td>\n",
              "      <td>-0.225775</td>\n",
              "      <td>-0.638672</td>\n",
              "      <td>0.101288</td>\n",
              "      <td>-0.339846</td>\n",
              "      <td>0.167170</td>\n",
              "      <td>0.125895</td>\n",
              "      <td>-0.008983</td>\n",
              "      <td>0.014724</td>\n",
              "      <td>2.69</td>\n",
              "      <td>0</td>\n",
              "    </tr>\n",
              "    <tr>\n",
              "      <th>2</th>\n",
              "      <td>1.0</td>\n",
              "      <td>-1.358354</td>\n",
              "      <td>-1.340163</td>\n",
              "      <td>1.773209</td>\n",
              "      <td>0.379780</td>\n",
              "      <td>-0.503198</td>\n",
              "      <td>1.800499</td>\n",
              "      <td>0.791461</td>\n",
              "      <td>0.247676</td>\n",
              "      <td>-1.514654</td>\n",
              "      <td>...</td>\n",
              "      <td>0.247998</td>\n",
              "      <td>0.771679</td>\n",
              "      <td>0.909412</td>\n",
              "      <td>-0.689281</td>\n",
              "      <td>-0.327642</td>\n",
              "      <td>-0.139097</td>\n",
              "      <td>-0.055353</td>\n",
              "      <td>-0.059752</td>\n",
              "      <td>378.66</td>\n",
              "      <td>0</td>\n",
              "    </tr>\n",
              "    <tr>\n",
              "      <th>3</th>\n",
              "      <td>1.0</td>\n",
              "      <td>-0.966272</td>\n",
              "      <td>-0.185226</td>\n",
              "      <td>1.792993</td>\n",
              "      <td>-0.863291</td>\n",
              "      <td>-0.010309</td>\n",
              "      <td>1.247203</td>\n",
              "      <td>0.237609</td>\n",
              "      <td>0.377436</td>\n",
              "      <td>-1.387024</td>\n",
              "      <td>...</td>\n",
              "      <td>-0.108300</td>\n",
              "      <td>0.005274</td>\n",
              "      <td>-0.190321</td>\n",
              "      <td>-1.175575</td>\n",
              "      <td>0.647376</td>\n",
              "      <td>-0.221929</td>\n",
              "      <td>0.062723</td>\n",
              "      <td>0.061458</td>\n",
              "      <td>123.50</td>\n",
              "      <td>0</td>\n",
              "    </tr>\n",
              "    <tr>\n",
              "      <th>4</th>\n",
              "      <td>2.0</td>\n",
              "      <td>-1.158233</td>\n",
              "      <td>0.877737</td>\n",
              "      <td>1.548718</td>\n",
              "      <td>0.403034</td>\n",
              "      <td>-0.407193</td>\n",
              "      <td>0.095921</td>\n",
              "      <td>0.592941</td>\n",
              "      <td>-0.270533</td>\n",
              "      <td>0.817739</td>\n",
              "      <td>...</td>\n",
              "      <td>-0.009431</td>\n",
              "      <td>0.798278</td>\n",
              "      <td>-0.137458</td>\n",
              "      <td>0.141267</td>\n",
              "      <td>-0.206010</td>\n",
              "      <td>0.502292</td>\n",
              "      <td>0.219422</td>\n",
              "      <td>0.215153</td>\n",
              "      <td>69.99</td>\n",
              "      <td>0</td>\n",
              "    </tr>\n",
              "  </tbody>\n",
              "</table>\n",
              "<p>5 rows × 31 columns</p>\n",
              "</div>"
            ],
            "text/plain": [
              "   Time        V1        V2        V3        V4        V5        V6        V7  \\\n",
              "0   0.0 -1.359807 -0.072781  2.536347  1.378155 -0.338321  0.462388  0.239599   \n",
              "1   0.0  1.191857  0.266151  0.166480  0.448154  0.060018 -0.082361 -0.078803   \n",
              "2   1.0 -1.358354 -1.340163  1.773209  0.379780 -0.503198  1.800499  0.791461   \n",
              "3   1.0 -0.966272 -0.185226  1.792993 -0.863291 -0.010309  1.247203  0.237609   \n",
              "4   2.0 -1.158233  0.877737  1.548718  0.403034 -0.407193  0.095921  0.592941   \n",
              "\n",
              "         V8        V9  ...       V21       V22       V23       V24       V25  \\\n",
              "0  0.098698  0.363787  ... -0.018307  0.277838 -0.110474  0.066928  0.128539   \n",
              "1  0.085102 -0.255425  ... -0.225775 -0.638672  0.101288 -0.339846  0.167170   \n",
              "2  0.247676 -1.514654  ...  0.247998  0.771679  0.909412 -0.689281 -0.327642   \n",
              "3  0.377436 -1.387024  ... -0.108300  0.005274 -0.190321 -1.175575  0.647376   \n",
              "4 -0.270533  0.817739  ... -0.009431  0.798278 -0.137458  0.141267 -0.206010   \n",
              "\n",
              "        V26       V27       V28  Amount  Class  \n",
              "0 -0.189115  0.133558 -0.021053  149.62      0  \n",
              "1  0.125895 -0.008983  0.014724    2.69      0  \n",
              "2 -0.139097 -0.055353 -0.059752  378.66      0  \n",
              "3 -0.221929  0.062723  0.061458  123.50      0  \n",
              "4  0.502292  0.219422  0.215153   69.99      0  \n",
              "\n",
              "[5 rows x 31 columns]"
            ]
          },
          "execution_count": 148,
          "metadata": {},
          "output_type": "execute_result"
        }
      ],
      "source": [
        "#first five rows of the data\n",
        "df.head()"
      ]
    },
    {
      "cell_type": "code",
      "execution_count": null,
      "metadata": {
        "id": "3FHHik-cj2M7",
        "outputId": "3e23a686-0567-497f-9768-a76908fd84d8"
      },
      "outputs": [
        {
          "name": "stdout",
          "output_type": "stream",
          "text": [
            "<class 'pandas.core.frame.DataFrame'>\n",
            "RangeIndex: 284807 entries, 0 to 284806\n",
            "Data columns (total 31 columns):\n",
            " #   Column  Non-Null Count   Dtype  \n",
            "---  ------  --------------   -----  \n",
            " 0   Time    284807 non-null  float64\n",
            " 1   V1      284807 non-null  float64\n",
            " 2   V2      284807 non-null  float64\n",
            " 3   V3      284807 non-null  float64\n",
            " 4   V4      284807 non-null  float64\n",
            " 5   V5      284807 non-null  float64\n",
            " 6   V6      284807 non-null  float64\n",
            " 7   V7      284807 non-null  float64\n",
            " 8   V8      284807 non-null  float64\n",
            " 9   V9      284807 non-null  float64\n",
            " 10  V10     284807 non-null  float64\n",
            " 11  V11     284807 non-null  float64\n",
            " 12  V12     284807 non-null  float64\n",
            " 13  V13     284807 non-null  float64\n",
            " 14  V14     284807 non-null  float64\n",
            " 15  V15     284807 non-null  float64\n",
            " 16  V16     284807 non-null  float64\n",
            " 17  V17     284807 non-null  float64\n",
            " 18  V18     284807 non-null  float64\n",
            " 19  V19     284807 non-null  float64\n",
            " 20  V20     284807 non-null  float64\n",
            " 21  V21     284807 non-null  float64\n",
            " 22  V22     284807 non-null  float64\n",
            " 23  V23     284807 non-null  float64\n",
            " 24  V24     284807 non-null  float64\n",
            " 25  V25     284807 non-null  float64\n",
            " 26  V26     284807 non-null  float64\n",
            " 27  V27     284807 non-null  float64\n",
            " 28  V28     284807 non-null  float64\n",
            " 29  Amount  284807 non-null  float64\n",
            " 30  Class   284807 non-null  int64  \n",
            "dtypes: float64(30), int64(1)\n",
            "memory usage: 67.4 MB\n"
          ]
        }
      ],
      "source": [
        "#info of the data\n",
        "df.info()"
      ]
    },
    {
      "cell_type": "code",
      "execution_count": null,
      "metadata": {
        "id": "AgeRxmbuj2M7",
        "outputId": "8be1836d-3e0d-4032-dc2f-78541527cc17"
      },
      "outputs": [
        {
          "data": {
            "text/plain": [
              "Time      0\n",
              "V1        0\n",
              "V2        0\n",
              "V3        0\n",
              "V4        0\n",
              "V5        0\n",
              "V6        0\n",
              "V7        0\n",
              "V8        0\n",
              "V9        0\n",
              "V10       0\n",
              "V11       0\n",
              "V12       0\n",
              "V13       0\n",
              "V14       0\n",
              "V15       0\n",
              "V16       0\n",
              "V17       0\n",
              "V18       0\n",
              "V19       0\n",
              "V20       0\n",
              "V21       0\n",
              "V22       0\n",
              "V23       0\n",
              "V24       0\n",
              "V25       0\n",
              "V26       0\n",
              "V27       0\n",
              "V28       0\n",
              "Amount    0\n",
              "Class     0\n",
              "dtype: int64"
            ]
          },
          "execution_count": 150,
          "metadata": {},
          "output_type": "execute_result"
        }
      ],
      "source": [
        "#checking for missing values\n",
        "df.isnull().sum()"
      ]
    },
    {
      "cell_type": "markdown",
      "metadata": {
        "id": "8FHiymmjj2M7"
      },
      "source": [
        "DATA HAS NO MISSING VALUES"
      ]
    },
    {
      "cell_type": "code",
      "execution_count": null,
      "metadata": {
        "id": "ZIpOyNxhj2M8",
        "outputId": "ecf2f9c6-3fd7-431a-a11e-b8d2a6528e8a"
      },
      "outputs": [
        {
          "data": {
            "text/plain": [
              "Class\n",
              "0    284315\n",
              "1       492\n",
              "Name: count, dtype: int64"
            ]
          },
          "execution_count": 151,
          "metadata": {},
          "output_type": "execute_result"
        }
      ],
      "source": [
        "#checking for imbalance of the target  variable\n",
        "df.Class.value_counts()"
      ]
    },
    {
      "cell_type": "code",
      "execution_count": null,
      "metadata": {
        "id": "CcoiZ4eaj2M8",
        "outputId": "9969e6ca-2d41-4605-9f65-ed2e9d6159c5"
      },
      "outputs": [
        {
          "data": {
            "text/plain": [
              "<Axes: xlabel='Class'>"
            ]
          },
          "execution_count": 152,
          "metadata": {},
          "output_type": "execute_result"
        },
        {
          "data": {
            "image/png": "[encoded data removed]",
            "text/plain": [
              "<Figure size 1000x800 with 1 Axes>"
            ]
          },
          "metadata": {},
          "output_type": "display_data"
        }
      ],
      "source": [
        "df.Class.value_counts().plot.bar()"
      ]
    },
    {
      "cell_type": "markdown",
      "metadata": {
        "id": "TnZwM21kj2M8"
      },
      "source": [
        "# We see that the target variable is highly imbalanced. We may have to imply oversampling techniques to counter this"
      ]
    },
    {
      "cell_type": "markdown",
      "metadata": {
        "id": "tjXDuEYbj2M8"
      },
      "source": [
        "# Since the data is masked, doing exploratory Data Analysis wouldn't make sense\n"
      ]
    },
    {
      "cell_type": "markdown",
      "metadata": {
        "id": "wwSgW7iyj2M8"
      },
      "source": [
        "# We will go ahead with feature selection\n"
      ]
    },
    {
      "cell_type": "markdown",
      "metadata": {
        "id": "eq5a1LOAj2M8"
      },
      "source": [
        "# Distribution of the variables\n"
      ]
    },
    {
      "cell_type": "markdown",
      "metadata": {
        "id": "oJdCwN6hj2M8"
      },
      "source": [
        "FEATURE SELECTION"
      ]
    },
    {
      "cell_type": "code",
      "execution_count": null,
      "metadata": {
        "id": "BudEt2uij2M9"
      },
      "outputs": [],
      "source": [
        "stat_df = pd.DataFrame()\n",
        "stat_df['Feature'] = df.drop(columns='Class').columns\n",
        "pvalue = []\n",
        "\n",
        "for i in df.drop(columns='Class').columns:\n",
        "    class_1=df.loc[df.Class==1,i]\n",
        "    class_0=df.loc[df.Class==0,i]\n",
        "    pvalue.append(stats.ttest_ind(class_1,class_0)[1])\n",
        "\n",
        "stat_df['pvalue'] = pvalue\n"
      ]
    },
    {
      "cell_type": "code",
      "execution_count": null,
      "metadata": {
        "id": "2U8Q4ebBj2M9"
      },
      "outputs": [],
      "source": [
        "selected_features = stat_df.loc[stat_df.pvalue<0.05]['Feature'].values"
      ]
    },
    {
      "cell_type": "markdown",
      "metadata": {
        "id": "8yIA9FN9j2M9"
      },
      "source": [
        "#Base Model#\n"
      ]
    },
    {
      "cell_type": "code",
      "execution_count": null,
      "metadata": {
        "id": "ZfDgfVI8j2M9"
      },
      "outputs": [],
      "source": [
        "# Model : Linear Regression\n",
        "\n",
        "#split the data\n",
        "x = df[selected_features]\n",
        "y = df.Class\n",
        "\n",
        "X_train, x_test, y_train, y_test = train_test_split(x, y, test_size=0.3, random_state=0)"
      ]
    },
    {
      "cell_type": "code",
      "execution_count": null,
      "metadata": {
        "id": "z2Jn0pTAj2M9",
        "outputId": "bf8e6096-1e98-495c-d168-312123c3bed3"
      },
      "outputs": [
        {
          "data": {
            "text/plain": [
              "((199364, 27), (85443, 27))"
            ]
          },
          "execution_count": 156,
          "metadata": {},
          "output_type": "execute_result"
        }
      ],
      "source": [
        "X_train.shape, x_test.shape"
      ]
    },
    {
      "cell_type": "code",
      "execution_count": null,
      "metadata": {
        "id": "muQx3Wrwj2M9"
      },
      "outputs": [],
      "source": [
        "#scale the data\n",
        "sc = StandardScaler()\n",
        "X_train_s = pd.DataFrame(sc.fit_transform(X_train), columns=X_train.columns)\n",
        "x_test_s = pd.DataFrame(sc.transform(x_test), columns=x_test.columns)"
      ]
    },
    {
      "cell_type": "code",
      "execution_count": null,
      "metadata": {
        "id": "9dIn_J7Cj2M9"
      },
      "outputs": [],
      "source": [
        "#adding constant column in x_train and x_test\n",
        "X_train_s = sm.add_constant(X_train_s)\n",
        "x_test_s = sm.add_constant(x_test_s)"
      ]
    },
    {
      "cell_type": "code",
      "execution_count": null,
      "metadata": {
        "id": "_6sgX8jpj2M9"
      },
      "outputs": [],
      "source": [
        "y_train = y_train.reset_index().drop(columns='index')\n",
        "y_test = y_test.reset_index().drop(columns='index')"
      ]
    },
    {
      "cell_type": "code",
      "execution_count": null,
      "metadata": {
        "id": "jGEthK80j2M9"
      },
      "outputs": [],
      "source": [
        "#before model building we will build an evaluation function\n",
        "\n",
        "def evaluation(y_test,y_pred):\n",
        "\n",
        "    print('Accuracy Score:',accuracy_score(y_test,y_pred))\n",
        "    print('f1_score:',f1_score(y_test,y_pred))\n",
        "    print('Precision:',precision_score(y_test,y_pred))\n",
        "    print('Recall:',recall_score(y_test,y_pred))\n",
        "    print('Classification report:\\n',classification_report(y_test,y_pred))\n",
        "    cm=confusion_matrix(y_test,y_pred)\n",
        "    ConfusionMatrixDisplay(cm).plot()\n",
        "    plt.title('Confusion matrix for the given prediction')\n",
        "    plt.show()\n"
      ]
    },
    {
      "cell_type": "code",
      "execution_count": null,
      "metadata": {
        "id": "TcAFreO6j2M9",
        "outputId": "88f9a415-03a6-481b-bf35-112148539e5d"
      },
      "outputs": [
        {
          "name": "stdout",
          "output_type": "stream",
          "text": [
            "Optimization terminated successfully.\n",
            "         Current function value: 0.003924\n",
            "         Iterations 13\n"
          ]
        }
      ],
      "source": [
        "#fit model\n",
        "base_model = sm.Logit(y_train, X_train_s).fit()\n",
        "y_pred_prob = base_model.predict(x_test_s)"
      ]
    },
    {
      "cell_type": "code",
      "execution_count": null,
      "metadata": {
        "id": "ClrHft7uj2M9",
        "outputId": "7813ad15-99b9-4743-8900-9e1004e4b230"
      },
      "outputs": [
        {
          "data": {
            "text/html": [
              "<table class=\"simpletable\">\n",
              "<caption>Logit Regression Results</caption>\n",
              "<tr>\n",
              "  <th>Dep. Variable:</th>         <td>Class</td>      <th>  No. Observations:  </th>  <td>199364</td> \n",
              "</tr>\n",
              "<tr>\n",
              "  <th>Model:</th>                 <td>Logit</td>      <th>  Df Residuals:      </th>  <td>199336</td> \n",
              "</tr>\n",
              "<tr>\n",
              "  <th>Method:</th>                 <td>MLE</td>       <th>  Df Model:          </th>  <td>    27</td> \n",
              "</tr>\n",
              "<tr>\n",
              "  <th>Date:</th>            <td>Tue, 10 Dec 2024</td> <th>  Pseudo R-squ.:     </th>  <td>0.6918</td> \n",
              "</tr>\n",
              "<tr>\n",
              "  <th>Time:</th>                <td>11:20:48</td>     <th>  Log-Likelihood:    </th> <td> -782.32</td>\n",
              "</tr>\n",
              "<tr>\n",
              "  <th>converged:</th>             <td>True</td>       <th>  LL-Null:           </th> <td> -2538.7</td>\n",
              "</tr>\n",
              "<tr>\n",
              "  <th>Covariance Type:</th>     <td>nonrobust</td>    <th>  LLR p-value:       </th>  <td> 0.000</td> \n",
              "</tr>\n",
              "</table>\n",
              "<table class=\"simpletable\">\n",
              "<tr>\n",
              "     <td></td>       <th>coef</th>     <th>std err</th>      <th>z</th>      <th>P>|z|</th>  <th>[0.025</th>    <th>0.975]</th>  \n",
              "</tr>\n",
              "<tr>\n",
              "  <th>const</th>  <td>   -8.5727</td> <td>    0.170</td> <td>  -50.318</td> <td> 0.000</td> <td>   -8.907</td> <td>   -8.239</td>\n",
              "</tr>\n",
              "<tr>\n",
              "  <th>Time</th>   <td>   -0.0795</td> <td>    0.123</td> <td>   -0.645</td> <td> 0.519</td> <td>   -0.321</td> <td>    0.162</td>\n",
              "</tr>\n",
              "<tr>\n",
              "  <th>V1</th>     <td>    0.2186</td> <td>    0.098</td> <td>    2.234</td> <td> 0.025</td> <td>    0.027</td> <td>    0.410</td>\n",
              "</tr>\n",
              "<tr>\n",
              "  <th>V2</th>     <td>    0.0063</td> <td>    0.117</td> <td>    0.054</td> <td> 0.957</td> <td>   -0.222</td> <td>    0.235</td>\n",
              "</tr>\n",
              "<tr>\n",
              "  <th>V3</th>     <td>    0.1155</td> <td>    0.100</td> <td>    1.154</td> <td> 0.248</td> <td>   -0.081</td> <td>    0.312</td>\n",
              "</tr>\n",
              "<tr>\n",
              "  <th>V4</th>     <td>    0.9661</td> <td>    0.130</td> <td>    7.413</td> <td> 0.000</td> <td>    0.711</td> <td>    1.221</td>\n",
              "</tr>\n",
              "<tr>\n",
              "  <th>V5</th>     <td>    0.1051</td> <td>    0.115</td> <td>    0.914</td> <td> 0.361</td> <td>   -0.120</td> <td>    0.330</td>\n",
              "</tr>\n",
              "<tr>\n",
              "  <th>V6</th>     <td>   -0.1025</td> <td>    0.119</td> <td>   -0.861</td> <td> 0.389</td> <td>   -0.336</td> <td>    0.131</td>\n",
              "</tr>\n",
              "<tr>\n",
              "  <th>V7</th>     <td>   -0.1404</td> <td>    0.105</td> <td>   -1.335</td> <td> 0.182</td> <td>   -0.346</td> <td>    0.066</td>\n",
              "</tr>\n",
              "<tr>\n",
              "  <th>V8</th>     <td>   -0.1625</td> <td>    0.056</td> <td>   -2.908</td> <td> 0.004</td> <td>   -0.272</td> <td>   -0.053</td>\n",
              "</tr>\n",
              "<tr>\n",
              "  <th>V9</th>     <td>   -0.2781</td> <td>    0.147</td> <td>   -1.894</td> <td> 0.058</td> <td>   -0.566</td> <td>    0.010</td>\n",
              "</tr>\n",
              "<tr>\n",
              "  <th>V10</th>    <td>   -0.9455</td> <td>    0.128</td> <td>   -7.389</td> <td> 0.000</td> <td>   -1.196</td> <td>   -0.695</td>\n",
              "</tr>\n",
              "<tr>\n",
              "  <th>V11</th>    <td>    0.0194</td> <td>    0.098</td> <td>    0.197</td> <td> 0.844</td> <td>   -0.173</td> <td>    0.212</td>\n",
              "</tr>\n",
              "<tr>\n",
              "  <th>V12</th>    <td>    0.1629</td> <td>    0.110</td> <td>    1.479</td> <td> 0.139</td> <td>   -0.053</td> <td>    0.379</td>\n",
              "</tr>\n",
              "<tr>\n",
              "  <th>V13</th>    <td>   -0.3133</td> <td>    0.099</td> <td>   -3.152</td> <td> 0.002</td> <td>   -0.508</td> <td>   -0.118</td>\n",
              "</tr>\n",
              "<tr>\n",
              "  <th>V14</th>    <td>   -0.5487</td> <td>    0.074</td> <td>   -7.403</td> <td> 0.000</td> <td>   -0.694</td> <td>   -0.403</td>\n",
              "</tr>\n",
              "<tr>\n",
              "  <th>V15</th>    <td>   -0.1114</td> <td>    0.096</td> <td>   -1.158</td> <td> 0.247</td> <td>   -0.300</td> <td>    0.077</td>\n",
              "</tr>\n",
              "<tr>\n",
              "  <th>V16</th>    <td>   -0.1793</td> <td>    0.120</td> <td>   -1.491</td> <td> 0.136</td> <td>   -0.415</td> <td>    0.056</td>\n",
              "</tr>\n",
              "<tr>\n",
              "  <th>V17</th>    <td>   -0.0729</td> <td>    0.073</td> <td>   -0.997</td> <td> 0.319</td> <td>   -0.216</td> <td>    0.070</td>\n",
              "</tr>\n",
              "<tr>\n",
              "  <th>V18</th>    <td>    0.0004</td> <td>    0.123</td> <td>    0.004</td> <td> 0.997</td> <td>   -0.240</td> <td>    0.241</td>\n",
              "</tr>\n",
              "<tr>\n",
              "  <th>V19</th>    <td>    0.0197</td> <td>    0.092</td> <td>    0.213</td> <td> 0.831</td> <td>   -0.161</td> <td>    0.200</td>\n",
              "</tr>\n",
              "<tr>\n",
              "  <th>V20</th>    <td>   -0.3869</td> <td>    0.080</td> <td>   -4.856</td> <td> 0.000</td> <td>   -0.543</td> <td>   -0.231</td>\n",
              "</tr>\n",
              "<tr>\n",
              "  <th>V21</th>    <td>    0.1665</td> <td>    0.045</td> <td>    3.694</td> <td> 0.000</td> <td>    0.078</td> <td>    0.255</td>\n",
              "</tr>\n",
              "<tr>\n",
              "  <th>V24</th>    <td>    0.0887</td> <td>    0.107</td> <td>    0.831</td> <td> 0.406</td> <td>   -0.120</td> <td>    0.298</td>\n",
              "</tr>\n",
              "<tr>\n",
              "  <th>V26</th>    <td>    0.1401</td> <td>    0.102</td> <td>    1.376</td> <td> 0.169</td> <td>   -0.059</td> <td>    0.340</td>\n",
              "</tr>\n",
              "<tr>\n",
              "  <th>V27</th>    <td>   -0.3378</td> <td>    0.063</td> <td>   -5.398</td> <td> 0.000</td> <td>   -0.461</td> <td>   -0.215</td>\n",
              "</tr>\n",
              "<tr>\n",
              "  <th>V28</th>    <td>   -0.1170</td> <td>    0.037</td> <td>   -3.204</td> <td> 0.001</td> <td>   -0.189</td> <td>   -0.045</td>\n",
              "</tr>\n",
              "<tr>\n",
              "  <th>Amount</th> <td>    0.2313</td> <td>    0.112</td> <td>    2.064</td> <td> 0.039</td> <td>    0.012</td> <td>    0.451</td>\n",
              "</tr>\n",
              "</table><br/><br/>Possibly complete quasi-separation: A fraction 0.27 of observations can be<br/>perfectly predicted. This might indicate that there is complete<br/>quasi-separation. In this case some parameters will not be identified."
            ],
            "text/latex": [
              "\\begin{center}\n",
              "\\begin{tabular}{lclc}\n",
              "\\toprule\n",
              "\\textbf{Dep. Variable:}   &      Class       & \\textbf{  No. Observations:  } &   199364    \\\\\n",
              "\\textbf{Model:}           &      Logit       & \\textbf{  Df Residuals:      } &   199336    \\\\\n",
              "\\textbf{Method:}          &       MLE        & \\textbf{  Df Model:          } &       27    \\\\\n",
              "\\textbf{Date:}            & Tue, 10 Dec 2024 & \\textbf{  Pseudo R-squ.:     } &   0.6918    \\\\\n",
              "\\textbf{Time:}            &     11:20:48     & \\textbf{  Log-Likelihood:    } &   -782.32   \\\\\n",
              "\\textbf{converged:}       &       True       & \\textbf{  LL-Null:           } &   -2538.7   \\\\\n",
              "\\textbf{Covariance Type:} &    nonrobust     & \\textbf{  LLR p-value:       } &    0.000    \\\\\n",
              "\\bottomrule\n",
              "\\end{tabular}\n",
              "\\begin{tabular}{lcccccc}\n",
              "                & \\textbf{coef} & \\textbf{std err} & \\textbf{z} & \\textbf{P$> |$z$|$} & \\textbf{[0.025} & \\textbf{0.975]}  \\\\\n",
              "\\midrule\n",
              "\\textbf{const}  &      -8.5727  &        0.170     &   -50.318  &         0.000        &       -8.907    &       -8.239     \\\\\n",
              "\\textbf{Time}   &      -0.0795  &        0.123     &    -0.645  &         0.519        &       -0.321    &        0.162     \\\\\n",
              "\\textbf{V1}     &       0.2186  &        0.098     &     2.234  &         0.025        &        0.027    &        0.410     \\\\\n",
              "\\textbf{V2}     &       0.0063  &        0.117     &     0.054  &         0.957        &       -0.222    &        0.235     \\\\\n",
              "\\textbf{V3}     &       0.1155  &        0.100     &     1.154  &         0.248        &       -0.081    &        0.312     \\\\\n",
              "\\textbf{V4}     &       0.9661  &        0.130     &     7.413  &         0.000        &        0.711    &        1.221     \\\\\n",
              "\\textbf{V5}     &       0.1051  &        0.115     &     0.914  &         0.361        &       -0.120    &        0.330     \\\\\n",
              "\\textbf{V6}     &      -0.1025  &        0.119     &    -0.861  &         0.389        &       -0.336    &        0.131     \\\\\n",
              "\\textbf{V7}     &      -0.1404  &        0.105     &    -1.335  &         0.182        &       -0.346    &        0.066     \\\\\n",
              "\\textbf{V8}     &      -0.1625  &        0.056     &    -2.908  &         0.004        &       -0.272    &       -0.053     \\\\\n",
              "\\textbf{V9}     &      -0.2781  &        0.147     &    -1.894  &         0.058        &       -0.566    &        0.010     \\\\\n",
              "\\textbf{V10}    &      -0.9455  &        0.128     &    -7.389  &         0.000        &       -1.196    &       -0.695     \\\\\n",
              "\\textbf{V11}    &       0.0194  &        0.098     &     0.197  &         0.844        &       -0.173    &        0.212     \\\\\n",
              "\\textbf{V12}    &       0.1629  &        0.110     &     1.479  &         0.139        &       -0.053    &        0.379     \\\\\n",
              "\\textbf{V13}    &      -0.3133  &        0.099     &    -3.152  &         0.002        &       -0.508    &       -0.118     \\\\\n",
              "\\textbf{V14}    &      -0.5487  &        0.074     &    -7.403  &         0.000        &       -0.694    &       -0.403     \\\\\n",
              "\\textbf{V15}    &      -0.1114  &        0.096     &    -1.158  &         0.247        &       -0.300    &        0.077     \\\\\n",
              "\\textbf{V16}    &      -0.1793  &        0.120     &    -1.491  &         0.136        &       -0.415    &        0.056     \\\\\n",
              "\\textbf{V17}    &      -0.0729  &        0.073     &    -0.997  &         0.319        &       -0.216    &        0.070     \\\\\n",
              "\\textbf{V18}    &       0.0004  &        0.123     &     0.004  &         0.997        &       -0.240    &        0.241     \\\\\n",
              "\\textbf{V19}    &       0.0197  &        0.092     &     0.213  &         0.831        &       -0.161    &        0.200     \\\\\n",
              "\\textbf{V20}    &      -0.3869  &        0.080     &    -4.856  &         0.000        &       -0.543    &       -0.231     \\\\\n",
              "\\textbf{V21}    &       0.1665  &        0.045     &     3.694  &         0.000        &        0.078    &        0.255     \\\\\n",
              "\\textbf{V24}    &       0.0887  &        0.107     &     0.831  &         0.406        &       -0.120    &        0.298     \\\\\n",
              "\\textbf{V26}    &       0.1401  &        0.102     &     1.376  &         0.169        &       -0.059    &        0.340     \\\\\n",
              "\\textbf{V27}    &      -0.3378  &        0.063     &    -5.398  &         0.000        &       -0.461    &       -0.215     \\\\\n",
              "\\textbf{V28}    &      -0.1170  &        0.037     &    -3.204  &         0.001        &       -0.189    &       -0.045     \\\\\n",
              "\\textbf{Amount} &       0.2313  &        0.112     &     2.064  &         0.039        &        0.012    &        0.451     \\\\\n",
              "\\bottomrule\n",
              "\\end{tabular}\n",
              "%\\caption{Logit Regression Results}\n",
              "\\end{center}\n",
              "\n",
              "Possibly complete quasi-separation: A fraction 0.27 of observations can be \\newline\n",
              " perfectly predicted. This might indicate that there is complete \\newline\n",
              " quasi-separation. In this case some parameters will not be identified."
            ],
            "text/plain": [
              "<class 'statsmodels.iolib.summary.Summary'>\n",
              "\"\"\"\n",
              "                           Logit Regression Results                           \n",
              "==============================================================================\n",
              "Dep. Variable:                  Class   No. Observations:               199364\n",
              "Model:                          Logit   Df Residuals:                   199336\n",
              "Method:                           MLE   Df Model:                           27\n",
              "Date:                Tue, 10 Dec 2024   Pseudo R-squ.:                  0.6918\n",
              "Time:                        11:20:48   Log-Likelihood:                -782.32\n",
              "converged:                       True   LL-Null:                       -2538.7\n",
              "Covariance Type:            nonrobust   LLR p-value:                     0.000\n",
              "==============================================================================\n",
              "                 coef    std err          z      P>|z|      [0.025      0.975]\n",
              "------------------------------------------------------------------------------\n",
              "const         -8.5727      0.170    -50.318      0.000      -8.907      -8.239\n",
              "Time          -0.0795      0.123     -0.645      0.519      -0.321       0.162\n",
              "V1             0.2186      0.098      2.234      0.025       0.027       0.410\n",
              "V2             0.0063      0.117      0.054      0.957      -0.222       0.235\n",
              "V3             0.1155      0.100      1.154      0.248      -0.081       0.312\n",
              "V4             0.9661      0.130      7.413      0.000       0.711       1.221\n",
              "V5             0.1051      0.115      0.914      0.361      -0.120       0.330\n",
              "V6            -0.1025      0.119     -0.861      0.389      -0.336       0.131\n",
              "V7            -0.1404      0.105     -1.335      0.182      -0.346       0.066\n",
              "V8            -0.1625      0.056     -2.908      0.004      -0.272      -0.053\n",
              "V9            -0.2781      0.147     -1.894      0.058      -0.566       0.010\n",
              "V10           -0.9455      0.128     -7.389      0.000      -1.196      -0.695\n",
              "V11            0.0194      0.098      0.197      0.844      -0.173       0.212\n",
              "V12            0.1629      0.110      1.479      0.139      -0.053       0.379\n",
              "V13           -0.3133      0.099     -3.152      0.002      -0.508      -0.118\n",
              "V14           -0.5487      0.074     -7.403      0.000      -0.694      -0.403\n",
              "V15           -0.1114      0.096     -1.158      0.247      -0.300       0.077\n",
              "V16           -0.1793      0.120     -1.491      0.136      -0.415       0.056\n",
              "V17           -0.0729      0.073     -0.997      0.319      -0.216       0.070\n",
              "V18            0.0004      0.123      0.004      0.997      -0.240       0.241\n",
              "V19            0.0197      0.092      0.213      0.831      -0.161       0.200\n",
              "V20           -0.3869      0.080     -4.856      0.000      -0.543      -0.231\n",
              "V21            0.1665      0.045      3.694      0.000       0.078       0.255\n",
              "V24            0.0887      0.107      0.831      0.406      -0.120       0.298\n",
              "V26            0.1401      0.102      1.376      0.169      -0.059       0.340\n",
              "V27           -0.3378      0.063     -5.398      0.000      -0.461      -0.215\n",
              "V28           -0.1170      0.037     -3.204      0.001      -0.189      -0.045\n",
              "Amount         0.2313      0.112      2.064      0.039       0.012       0.451\n",
              "==============================================================================\n",
              "\n",
              "Possibly complete quasi-separation: A fraction 0.27 of observations can be\n",
              "perfectly predicted. This might indicate that there is complete\n",
              "quasi-separation. In this case some parameters will not be identified.\n",
              "\"\"\""
            ]
          },
          "execution_count": 162,
          "metadata": {},
          "output_type": "execute_result"
        }
      ],
      "source": [
        "#summary of the model\n",
        "base_model.summary()"
      ]
    },
    {
      "cell_type": "code",
      "execution_count": null,
      "metadata": {
        "id": "KbG9jojmj2M9"
      },
      "outputs": [],
      "source": [
        "y_pred = []\n",
        "\n",
        "#taking threshold at 0.5\n",
        "for i in y_pred_prob:\n",
        "    if i>0.5:\n",
        "        y_pred.append(1)\n",
        "    else:\n",
        "        y_pred.append(0)\n"
      ]
    },
    {
      "cell_type": "code",
      "execution_count": null,
      "metadata": {
        "id": "oyAublg2j2M9",
        "outputId": "cfc56b70-9ad0-4e3b-fbfb-000518187a85"
      },
      "outputs": [
        {
          "name": "stdout",
          "output_type": "stream",
          "text": [
            "Accuracy Score: 0.9991807403766253\n",
            "f1_score: 0.717741935483871\n",
            "Precision: 0.8811881188118812\n",
            "Recall: 0.6054421768707483\n",
            "Classification report:\n",
            "               precision    recall  f1-score   support\n",
            "\n",
            "           0       1.00      1.00      1.00     85296\n",
            "           1       0.88      0.61      0.72       147\n",
            "\n",
            "    accuracy                           1.00     85443\n",
            "   macro avg       0.94      0.80      0.86     85443\n",
            "weighted avg       1.00      1.00      1.00     85443\n",
            "\n"
          ]
        },
        {
          "data": {
            "image/png": "[encoded data removed]",
            "text/plain": [
              "<Figure size 1000x800 with 2 Axes>"
            ]
          },
          "metadata": {},
          "output_type": "display_data"
        }
      ],
      "source": [
        "# Evauating the model\n",
        "evaluation(y_test, y_pred)"
      ]
    },
    {
      "cell_type": "markdown",
      "metadata": {
        "id": "XWDUwZ_zj2M9"
      },
      "source": [
        "We observe that we get an excellent accuracy score of 99.9% but a poor recall score. This due to the high imbalance in the target class. We will try some oversampling techniques to see if we can counter this"
      ]
    },
    {
      "cell_type": "markdown",
      "metadata": {
        "id": "4P-BrwTQj2M-"
      },
      "source": [
        "#SMOTE"
      ]
    },
    {
      "cell_type": "code",
      "execution_count": null,
      "metadata": {
        "id": "tCHDhPH9j2M-"
      },
      "outputs": [],
      "source": [
        "X_train_sampled, y_train_sampled = SMOTE().fit_resample(X_train_s, y_train)"
      ]
    },
    {
      "cell_type": "markdown",
      "metadata": {
        "id": "cyK5_crHj2M-"
      },
      "source": [
        "#NOW WE HAVE OVERSAMPLED TRAINING SET\n",
        "\n",
        "#WE WILL APPLY LOGISTIC REGRESSION MODEL AGAIN"
      ]
    },
    {
      "cell_type": "code",
      "execution_count": null,
      "metadata": {
        "id": "fV3VU6k-j2M-",
        "outputId": "99614759-859d-44d8-f4b9-8d6d9f0ac3e2"
      },
      "outputs": [
        {
          "name": "stdout",
          "output_type": "stream",
          "text": [
            "Optimization terminated successfully.\n",
            "         Current function value: 0.134143\n",
            "         Iterations 14\n"
          ]
        }
      ],
      "source": [
        "model = sm.Logit(y_train_sampled, X_train_sampled).fit()\n",
        "y_pred_prob = model.predict(x_test_s)"
      ]
    },
    {
      "cell_type": "code",
      "execution_count": null,
      "metadata": {
        "id": "l8SGUgzOj2M-",
        "outputId": "2e287854-2239-404d-b7a3-dce45b62faaf"
      },
      "outputs": [
        {
          "data": {
            "text/html": [
              "<table class=\"simpletable\">\n",
              "<caption>Logit Regression Results</caption>\n",
              "<tr>\n",
              "  <th>Dep. Variable:</th>         <td>Class</td>      <th>  No. Observations:  </th>   <td>398038</td>   \n",
              "</tr>\n",
              "<tr>\n",
              "  <th>Model:</th>                 <td>Logit</td>      <th>  Df Residuals:      </th>   <td>398010</td>   \n",
              "</tr>\n",
              "<tr>\n",
              "  <th>Method:</th>                 <td>MLE</td>       <th>  Df Model:          </th>   <td>    27</td>   \n",
              "</tr>\n",
              "<tr>\n",
              "  <th>Date:</th>            <td>Tue, 10 Dec 2024</td> <th>  Pseudo R-squ.:     </th>   <td>0.8065</td>   \n",
              "</tr>\n",
              "<tr>\n",
              "  <th>Time:</th>                <td>11:20:51</td>     <th>  Log-Likelihood:    </th>  <td> -53394.</td>  \n",
              "</tr>\n",
              "<tr>\n",
              "  <th>converged:</th>             <td>True</td>       <th>  LL-Null:           </th> <td>-2.7590e+05</td>\n",
              "</tr>\n",
              "<tr>\n",
              "  <th>Covariance Type:</th>     <td>nonrobust</td>    <th>  LLR p-value:       </th>   <td> 0.000</td>   \n",
              "</tr>\n",
              "</table>\n",
              "<table class=\"simpletable\">\n",
              "<tr>\n",
              "     <td></td>       <th>coef</th>     <th>std err</th>      <th>z</th>      <th>P>|z|</th>  <th>[0.025</th>    <th>0.975]</th>  \n",
              "</tr>\n",
              "<tr>\n",
              "  <th>const</th>  <td>   -3.4924</td> <td>    0.015</td> <td> -226.349</td> <td> 0.000</td> <td>   -3.523</td> <td>   -3.462</td>\n",
              "</tr>\n",
              "<tr>\n",
              "  <th>Time</th>   <td>   -0.2182</td> <td>    0.012</td> <td>  -18.360</td> <td> 0.000</td> <td>   -0.242</td> <td>   -0.195</td>\n",
              "</tr>\n",
              "<tr>\n",
              "  <th>V1</th>     <td>    0.7970</td> <td>    0.019</td> <td>   42.769</td> <td> 0.000</td> <td>    0.761</td> <td>    0.834</td>\n",
              "</tr>\n",
              "<tr>\n",
              "  <th>V2</th>     <td>    0.2568</td> <td>    0.019</td> <td>   13.363</td> <td> 0.000</td> <td>    0.219</td> <td>    0.295</td>\n",
              "</tr>\n",
              "<tr>\n",
              "  <th>V3</th>     <td>    0.2327</td> <td>    0.012</td> <td>   18.985</td> <td> 0.000</td> <td>    0.209</td> <td>    0.257</td>\n",
              "</tr>\n",
              "<tr>\n",
              "  <th>V4</th>     <td>    1.2982</td> <td>    0.012</td> <td>  106.519</td> <td> 0.000</td> <td>    1.274</td> <td>    1.322</td>\n",
              "</tr>\n",
              "<tr>\n",
              "  <th>V5</th>     <td>    0.6204</td> <td>    0.012</td> <td>   50.531</td> <td> 0.000</td> <td>    0.596</td> <td>    0.644</td>\n",
              "</tr>\n",
              "<tr>\n",
              "  <th>V6</th>     <td>   -0.3746</td> <td>    0.012</td> <td>  -31.859</td> <td> 0.000</td> <td>   -0.398</td> <td>   -0.352</td>\n",
              "</tr>\n",
              "<tr>\n",
              "  <th>V7</th>     <td>   -0.1571</td> <td>    0.012</td> <td>  -13.090</td> <td> 0.000</td> <td>   -0.181</td> <td>   -0.134</td>\n",
              "</tr>\n",
              "<tr>\n",
              "  <th>V8</th>     <td>   -0.6042</td> <td>    0.011</td> <td>  -55.447</td> <td> 0.000</td> <td>   -0.626</td> <td>   -0.583</td>\n",
              "</tr>\n",
              "<tr>\n",
              "  <th>V9</th>     <td>   -0.3028</td> <td>    0.015</td> <td>  -20.111</td> <td> 0.000</td> <td>   -0.332</td> <td>   -0.273</td>\n",
              "</tr>\n",
              "<tr>\n",
              "  <th>V10</th>    <td>   -1.0003</td> <td>    0.020</td> <td>  -50.087</td> <td> 0.000</td> <td>   -1.039</td> <td>   -0.961</td>\n",
              "</tr>\n",
              "<tr>\n",
              "  <th>V11</th>    <td>    0.5263</td> <td>    0.012</td> <td>   45.442</td> <td> 0.000</td> <td>    0.504</td> <td>    0.549</td>\n",
              "</tr>\n",
              "<tr>\n",
              "  <th>V12</th>    <td>   -0.8248</td> <td>    0.016</td> <td>  -53.095</td> <td> 0.000</td> <td>   -0.855</td> <td>   -0.794</td>\n",
              "</tr>\n",
              "<tr>\n",
              "  <th>V13</th>    <td>   -0.4377</td> <td>    0.008</td> <td>  -52.156</td> <td> 0.000</td> <td>   -0.454</td> <td>   -0.421</td>\n",
              "</tr>\n",
              "<tr>\n",
              "  <th>V14</th>    <td>   -1.2730</td> <td>    0.016</td> <td>  -81.298</td> <td> 0.000</td> <td>   -1.304</td> <td>   -1.242</td>\n",
              "</tr>\n",
              "<tr>\n",
              "  <th>V15</th>    <td>   -0.0887</td> <td>    0.009</td> <td>  -10.291</td> <td> 0.000</td> <td>   -0.106</td> <td>   -0.072</td>\n",
              "</tr>\n",
              "<tr>\n",
              "  <th>V16</th>    <td>   -0.5605</td> <td>    0.014</td> <td>  -39.878</td> <td> 0.000</td> <td>   -0.588</td> <td>   -0.533</td>\n",
              "</tr>\n",
              "<tr>\n",
              "  <th>V17</th>    <td>   -0.5164</td> <td>    0.018</td> <td>  -29.364</td> <td> 0.000</td> <td>   -0.551</td> <td>   -0.482</td>\n",
              "</tr>\n",
              "<tr>\n",
              "  <th>V18</th>    <td>   -0.1209</td> <td>    0.012</td> <td>  -10.178</td> <td> 0.000</td> <td>   -0.144</td> <td>   -0.098</td>\n",
              "</tr>\n",
              "<tr>\n",
              "  <th>V19</th>    <td>    0.2123</td> <td>    0.009</td> <td>   22.564</td> <td> 0.000</td> <td>    0.194</td> <td>    0.231</td>\n",
              "</tr>\n",
              "<tr>\n",
              "  <th>V20</th>    <td>   -0.3598</td> <td>    0.013</td> <td>  -27.835</td> <td> 0.000</td> <td>   -0.385</td> <td>   -0.335</td>\n",
              "</tr>\n",
              "<tr>\n",
              "  <th>V21</th>    <td>    0.0088</td> <td>    0.008</td> <td>    1.108</td> <td> 0.268</td> <td>   -0.007</td> <td>    0.024</td>\n",
              "</tr>\n",
              "<tr>\n",
              "  <th>V24</th>    <td>    0.0922</td> <td>    0.010</td> <td>    9.108</td> <td> 0.000</td> <td>    0.072</td> <td>    0.112</td>\n",
              "</tr>\n",
              "<tr>\n",
              "  <th>V26</th>    <td>   -0.0154</td> <td>    0.010</td> <td>   -1.616</td> <td> 0.106</td> <td>   -0.034</td> <td>    0.003</td>\n",
              "</tr>\n",
              "<tr>\n",
              "  <th>V27</th>    <td>    0.0500</td> <td>    0.012</td> <td>    4.257</td> <td> 0.000</td> <td>    0.027</td> <td>    0.073</td>\n",
              "</tr>\n",
              "<tr>\n",
              "  <th>V28</th>    <td>    0.1573</td> <td>    0.011</td> <td>   14.703</td> <td> 0.000</td> <td>    0.136</td> <td>    0.178</td>\n",
              "</tr>\n",
              "<tr>\n",
              "  <th>Amount</th> <td>    0.7616</td> <td>    0.022</td> <td>   34.184</td> <td> 0.000</td> <td>    0.718</td> <td>    0.805</td>\n",
              "</tr>\n",
              "</table><br/><br/>Possibly complete quasi-separation: A fraction 0.41 of observations can be<br/>perfectly predicted. This might indicate that there is complete<br/>quasi-separation. In this case some parameters will not be identified."
            ],
            "text/latex": [
              "\\begin{center}\n",
              "\\begin{tabular}{lclc}\n",
              "\\toprule\n",
              "\\textbf{Dep. Variable:}   &      Class       & \\textbf{  No. Observations:  } &    398038    \\\\\n",
              "\\textbf{Model:}           &      Logit       & \\textbf{  Df Residuals:      } &    398010    \\\\\n",
              "\\textbf{Method:}          &       MLE        & \\textbf{  Df Model:          } &        27    \\\\\n",
              "\\textbf{Date:}            & Tue, 10 Dec 2024 & \\textbf{  Pseudo R-squ.:     } &    0.8065    \\\\\n",
              "\\textbf{Time:}            &     11:20:51     & \\textbf{  Log-Likelihood:    } &    -53394.   \\\\\n",
              "\\textbf{converged:}       &       True       & \\textbf{  LL-Null:           } & -2.7590e+05  \\\\\n",
              "\\textbf{Covariance Type:} &    nonrobust     & \\textbf{  LLR p-value:       } &     0.000    \\\\\n",
              "\\bottomrule\n",
              "\\end{tabular}\n",
              "\\begin{tabular}{lcccccc}\n",
              "                & \\textbf{coef} & \\textbf{std err} & \\textbf{z} & \\textbf{P$> |$z$|$} & \\textbf{[0.025} & \\textbf{0.975]}  \\\\\n",
              "\\midrule\n",
              "\\textbf{const}  &      -3.4924  &        0.015     &  -226.349  &         0.000        &       -3.523    &       -3.462     \\\\\n",
              "\\textbf{Time}   &      -0.2182  &        0.012     &   -18.360  &         0.000        &       -0.242    &       -0.195     \\\\\n",
              "\\textbf{V1}     &       0.7970  &        0.019     &    42.769  &         0.000        &        0.761    &        0.834     \\\\\n",
              "\\textbf{V2}     &       0.2568  &        0.019     &    13.363  &         0.000        &        0.219    &        0.295     \\\\\n",
              "\\textbf{V3}     &       0.2327  &        0.012     &    18.985  &         0.000        &        0.209    &        0.257     \\\\\n",
              "\\textbf{V4}     &       1.2982  &        0.012     &   106.519  &         0.000        &        1.274    &        1.322     \\\\\n",
              "\\textbf{V5}     &       0.6204  &        0.012     &    50.531  &         0.000        &        0.596    &        0.644     \\\\\n",
              "\\textbf{V6}     &      -0.3746  &        0.012     &   -31.859  &         0.000        &       -0.398    &       -0.352     \\\\\n",
              "\\textbf{V7}     &      -0.1571  &        0.012     &   -13.090  &         0.000        &       -0.181    &       -0.134     \\\\\n",
              "\\textbf{V8}     &      -0.6042  &        0.011     &   -55.447  &         0.000        &       -0.626    &       -0.583     \\\\\n",
              "\\textbf{V9}     &      -0.3028  &        0.015     &   -20.111  &         0.000        &       -0.332    &       -0.273     \\\\\n",
              "\\textbf{V10}    &      -1.0003  &        0.020     &   -50.087  &         0.000        &       -1.039    &       -0.961     \\\\\n",
              "\\textbf{V11}    &       0.5263  &        0.012     &    45.442  &         0.000        &        0.504    &        0.549     \\\\\n",
              "\\textbf{V12}    &      -0.8248  &        0.016     &   -53.095  &         0.000        &       -0.855    &       -0.794     \\\\\n",
              "\\textbf{V13}    &      -0.4377  &        0.008     &   -52.156  &         0.000        &       -0.454    &       -0.421     \\\\\n",
              "\\textbf{V14}    &      -1.2730  &        0.016     &   -81.298  &         0.000        &       -1.304    &       -1.242     \\\\\n",
              "\\textbf{V15}    &      -0.0887  &        0.009     &   -10.291  &         0.000        &       -0.106    &       -0.072     \\\\\n",
              "\\textbf{V16}    &      -0.5605  &        0.014     &   -39.878  &         0.000        &       -0.588    &       -0.533     \\\\\n",
              "\\textbf{V17}    &      -0.5164  &        0.018     &   -29.364  &         0.000        &       -0.551    &       -0.482     \\\\\n",
              "\\textbf{V18}    &      -0.1209  &        0.012     &   -10.178  &         0.000        &       -0.144    &       -0.098     \\\\\n",
              "\\textbf{V19}    &       0.2123  &        0.009     &    22.564  &         0.000        &        0.194    &        0.231     \\\\\n",
              "\\textbf{V20}    &      -0.3598  &        0.013     &   -27.835  &         0.000        &       -0.385    &       -0.335     \\\\\n",
              "\\textbf{V21}    &       0.0088  &        0.008     &     1.108  &         0.268        &       -0.007    &        0.024     \\\\\n",
              "\\textbf{V24}    &       0.0922  &        0.010     &     9.108  &         0.000        &        0.072    &        0.112     \\\\\n",
              "\\textbf{V26}    &      -0.0154  &        0.010     &    -1.616  &         0.106        &       -0.034    &        0.003     \\\\\n",
              "\\textbf{V27}    &       0.0500  &        0.012     &     4.257  &         0.000        &        0.027    &        0.073     \\\\\n",
              "\\textbf{V28}    &       0.1573  &        0.011     &    14.703  &         0.000        &        0.136    &        0.178     \\\\\n",
              "\\textbf{Amount} &       0.7616  &        0.022     &    34.184  &         0.000        &        0.718    &        0.805     \\\\\n",
              "\\bottomrule\n",
              "\\end{tabular}\n",
              "%\\caption{Logit Regression Results}\n",
              "\\end{center}\n",
              "\n",
              "Possibly complete quasi-separation: A fraction 0.41 of observations can be \\newline\n",
              " perfectly predicted. This might indicate that there is complete \\newline\n",
              " quasi-separation. In this case some parameters will not be identified."
            ],
            "text/plain": [
              "<class 'statsmodels.iolib.summary.Summary'>\n",
              "\"\"\"\n",
              "                           Logit Regression Results                           \n",
              "==============================================================================\n",
              "Dep. Variable:                  Class   No. Observations:               398038\n",
              "Model:                          Logit   Df Residuals:                   398010\n",
              "Method:                           MLE   Df Model:                           27\n",
              "Date:                Tue, 10 Dec 2024   Pseudo R-squ.:                  0.8065\n",
              "Time:                        11:20:51   Log-Likelihood:                -53394.\n",
              "converged:                       True   LL-Null:                   -2.7590e+05\n",
              "Covariance Type:            nonrobust   LLR p-value:                     0.000\n",
              "==============================================================================\n",
              "                 coef    std err          z      P>|z|      [0.025      0.975]\n",
              "------------------------------------------------------------------------------\n",
              "const         -3.4924      0.015   -226.349      0.000      -3.523      -3.462\n",
              "Time          -0.2182      0.012    -18.360      0.000      -0.242      -0.195\n",
              "V1             0.7970      0.019     42.769      0.000       0.761       0.834\n",
              "V2             0.2568      0.019     13.363      0.000       0.219       0.295\n",
              "V3             0.2327      0.012     18.985      0.000       0.209       0.257\n",
              "V4             1.2982      0.012    106.519      0.000       1.274       1.322\n",
              "V5             0.6204      0.012     50.531      0.000       0.596       0.644\n",
              "V6            -0.3746      0.012    -31.859      0.000      -0.398      -0.352\n",
              "V7            -0.1571      0.012    -13.090      0.000      -0.181      -0.134\n",
              "V8            -0.6042      0.011    -55.447      0.000      -0.626      -0.583\n",
              "V9            -0.3028      0.015    -20.111      0.000      -0.332      -0.273\n",
              "V10           -1.0003      0.020    -50.087      0.000      -1.039      -0.961\n",
              "V11            0.5263      0.012     45.442      0.000       0.504       0.549\n",
              "V12           -0.8248      0.016    -53.095      0.000      -0.855      -0.794\n",
              "V13           -0.4377      0.008    -52.156      0.000      -0.454      -0.421\n",
              "V14           -1.2730      0.016    -81.298      0.000      -1.304      -1.242\n",
              "V15           -0.0887      0.009    -10.291      0.000      -0.106      -0.072\n",
              "V16           -0.5605      0.014    -39.878      0.000      -0.588      -0.533\n",
              "V17           -0.5164      0.018    -29.364      0.000      -0.551      -0.482\n",
              "V18           -0.1209      0.012    -10.178      0.000      -0.144      -0.098\n",
              "V19            0.2123      0.009     22.564      0.000       0.194       0.231\n",
              "V20           -0.3598      0.013    -27.835      0.000      -0.385      -0.335\n",
              "V21            0.0088      0.008      1.108      0.268      -0.007       0.024\n",
              "V24            0.0922      0.010      9.108      0.000       0.072       0.112\n",
              "V26           -0.0154      0.010     -1.616      0.106      -0.034       0.003\n",
              "V27            0.0500      0.012      4.257      0.000       0.027       0.073\n",
              "V28            0.1573      0.011     14.703      0.000       0.136       0.178\n",
              "Amount         0.7616      0.022     34.184      0.000       0.718       0.805\n",
              "==============================================================================\n",
              "\n",
              "Possibly complete quasi-separation: A fraction 0.41 of observations can be\n",
              "perfectly predicted. This might indicate that there is complete\n",
              "quasi-separation. In this case some parameters will not be identified.\n",
              "\"\"\""
            ]
          },
          "execution_count": 167,
          "metadata": {},
          "output_type": "execute_result"
        }
      ],
      "source": [
        "model.summary()"
      ]
    },
    {
      "cell_type": "code",
      "execution_count": null,
      "metadata": {
        "id": "FKKs3CK3j2M-"
      },
      "outputs": [],
      "source": [
        "y_pred = []\n",
        "\n",
        "#taking threshold at 0.5\n",
        "for i in y_pred_prob:\n",
        "    if i>0.5:\n",
        "        y_pred.append(1)\n",
        "    else:\n",
        "        y_pred.append(0)"
      ]
    },
    {
      "cell_type": "code",
      "execution_count": null,
      "metadata": {
        "id": "b0cqeJR_j2M-",
        "outputId": "5fe3e9b7-f1d7-441c-ffd7-4de313e8a7b1"
      },
      "outputs": [
        {
          "name": "stdout",
          "output_type": "stream",
          "text": [
            "Accuracy Score: 0.9756094706412463\n",
            "f1_score: 0.11469838572642312\n",
            "Precision: 0.061169007702763935\n",
            "Recall: 0.9183673469387755\n",
            "Classification report:\n",
            "               precision    recall  f1-score   support\n",
            "\n",
            "           0       1.00      0.98      0.99     85296\n",
            "           1       0.06      0.92      0.11       147\n",
            "\n",
            "    accuracy                           0.98     85443\n",
            "   macro avg       0.53      0.95      0.55     85443\n",
            "weighted avg       1.00      0.98      0.99     85443\n",
            "\n"
          ]
        },
        {
          "data": {
            "image/png": "[encoded data removed]",
            "text/plain": [
              "<Figure size 1000x800 with 2 Axes>"
            ]
          },
          "metadata": {},
          "output_type": "display_data"
        }
      ],
      "source": [
        "#evaluating the model\n",
        "evaluation(y_test, y_pred)"
      ]
    },
    {
      "cell_type": "code",
      "execution_count": null,
      "metadata": {
        "id": "k0goWy5Qj2M-",
        "outputId": "081e243c-7b50-4517-9bd6-949eea5ff8cc"
      },
      "outputs": [
        {
          "data": {
            "image/png": "[encoded data removed]",
            "text/plain": [
              "<Figure size 1000x800 with 1 Axes>"
            ]
          },
          "metadata": {},
          "output_type": "display_data"
        }
      ],
      "source": [
        "plt.rcParams['figure.figsize'] = [10, 8]\n",
        "plt.barh(y=model.params.index, width=model.params.values)\n",
        "plt.title('Feature Importance')\n",
        "plt.ylabel('Features')\n",
        "plt.xlabel('Coefficient in the model')\n",
        "plt.show()"
      ]
    },
    {
      "cell_type": "markdown",
      "metadata": {
        "id": "htA0t09Wj2M-"
      },
      "source": [
        "We observe that our recall score has imporved considerably in case of a Logistic Regression model. We will further see whether our model could improve through some tree based models"
      ]
    },
    {
      "cell_type": "markdown",
      "metadata": {
        "id": "CBW6Qq-sj2M-"
      },
      "source": [
        "DECISION TREE"
      ]
    },
    {
      "cell_type": "code",
      "execution_count": null,
      "metadata": {
        "id": "fqw6Jaccj2M-"
      },
      "outputs": [],
      "source": [
        "# Model : Decision Tree\n",
        "# Since we are using decision tree we won't be needing to scale the split data\n",
        "\n",
        "# We will usie smote to resample the data again\n",
        "x_train_sampled, y_train_sampled = SMOTE().fit_resample(X_train,y_train)"
      ]
    },
    {
      "cell_type": "code",
      "execution_count": null,
      "metadata": {
        "id": "fXfjW1kZj2M-"
      },
      "outputs": [],
      "source": [
        "dtree = DecisionTreeClassifier()\n",
        "dmodel = dtree.fit(x_train_sampled, y_train_sampled)\n",
        "y_pred = dmodel.predict(x_test)"
      ]
    },
    {
      "cell_type": "code",
      "execution_count": null,
      "metadata": {
        "id": "TPeFXspJj2NC",
        "outputId": "d534d1bf-d57c-4c07-e751-aab3bbe295ed"
      },
      "outputs": [
        {
          "name": "stdout",
          "output_type": "stream",
          "text": [
            "Accuracy Score: 0.9979986657771848\n",
            "f1_score: 0.575682382133995\n",
            "Precision: 0.453125\n",
            "Recall: 0.7891156462585034\n",
            "Classification report:\n",
            "               precision    recall  f1-score   support\n",
            "\n",
            "           0       1.00      1.00      1.00     85296\n",
            "           1       0.45      0.79      0.58       147\n",
            "\n",
            "    accuracy                           1.00     85443\n",
            "   macro avg       0.73      0.89      0.79     85443\n",
            "weighted avg       1.00      1.00      1.00     85443\n",
            "\n"
          ]
        },
        {
          "data": {
            "image/png": "[encoded data removed]",
            "text/plain": [
              "<Figure size 1000x800 with 2 Axes>"
            ]
          },
          "metadata": {},
          "output_type": "display_data"
        }
      ],
      "source": [
        "#evaluating the model\n",
        "evaluation(y_test, y_pred)"
      ]
    },
    {
      "cell_type": "markdown",
      "metadata": {
        "id": "7LCoQQIkj2NC"
      },
      "source": [
        "We observe that Decision Tree performs worse than Losgistic Regression. We will now see whether bossting methods actually have a positive effect on the oversampled train data."
      ]
    },
    {
      "cell_type": "code",
      "execution_count": null,
      "metadata": {
        "id": "-yjKhcdvj2NC",
        "outputId": "7a6d05ab-e7d0-434d-b69a-628bf22f36d1"
      },
      "outputs": [
        {
          "name": "stdout",
          "output_type": "stream",
          "text": [
            "[LightGBM] [Info] Number of positive: 199019, number of negative: 199019\n",
            "[LightGBM] [Info] Auto-choosing col-wise multi-threading, the overhead of testing was 0.032636 seconds.\n",
            "You can set `force_col_wise=true` to remove the overhead.\n",
            "[LightGBM] [Info] Total Bins 6885\n",
            "[LightGBM] [Info] Number of data points in the train set: 398038, number of used features: 27\n",
            "[LightGBM] [Info] [binary:BoostFromScore]: pavg=0.500000 -> initscore=0.000000\n"
          ]
        }
      ],
      "source": [
        "# model : LightGBM\n",
        "lgbm = LGBMClassifier()\n",
        "lg_model = lgbm.fit(x_train_sampled, y_train_sampled)\n",
        "y_pred = lg_model.predict(x_test)"
      ]
    },
    {
      "cell_type": "code",
      "execution_count": null,
      "metadata": {
        "id": "MDC__zJuj2NC",
        "outputId": "b0402cee-8cca-4dbb-8bab-b5839dcec66e"
      },
      "outputs": [
        {
          "name": "stdout",
          "output_type": "stream",
          "text": [
            "Accuracy Score: 0.9991924440855307\n",
            "f1_score: 0.7781350482315113\n",
            "Precision: 0.7378048780487805\n",
            "Recall: 0.8231292517006803\n",
            "Classification report:\n",
            "               precision    recall  f1-score   support\n",
            "\n",
            "           0       1.00      1.00      1.00     85296\n",
            "           1       0.74      0.82      0.78       147\n",
            "\n",
            "    accuracy                           1.00     85443\n",
            "   macro avg       0.87      0.91      0.89     85443\n",
            "weighted avg       1.00      1.00      1.00     85443\n",
            "\n"
          ]
        },
        {
          "data": {
            "image/png": "[encoded data removed]",
            "text/plain": [
              "<Figure size 1000x800 with 2 Axes>"
            ]
          },
          "metadata": {},
          "output_type": "display_data"
        }
      ],
      "source": [
        "#model evaluation\n",
        "evaluation(y_test, y_pred)"
      ]
    },
    {
      "cell_type": "markdown",
      "metadata": {
        "id": "xSovb0EBj2NC"
      },
      "source": [
        "We observe that the lightgbm model is performing poorly compared to Decision Tree in terms of recall score, but has a much better f1-score. Let us see whether we can improve the performance of the lightgbm model by increasing the weight of the positive class"
      ]
    },
    {
      "cell_type": "code",
      "execution_count": null,
      "metadata": {
        "id": "4l0X9l-Ej2NC",
        "outputId": "4f683d5f-5a5c-42b9-e2e2-ad1dc9200085"
      },
      "outputs": [
        {
          "name": "stdout",
          "output_type": "stream",
          "text": [
            "[LightGBM] [Info] Number of positive: 199019, number of negative: 199019\n",
            "[LightGBM] [Info] Auto-choosing col-wise multi-threading, the overhead of testing was 0.020209 seconds.\n",
            "You can set `force_col_wise=true` to remove the overhead.\n",
            "[LightGBM] [Info] Total Bins 6885\n",
            "[LightGBM] [Info] Number of data points in the train set: 398038, number of used features: 27\n",
            "[LightGBM] [Info] [binary:BoostFromScore]: pavg=0.500000 -> initscore=0.000000\n"
          ]
        }
      ],
      "source": [
        "lgbm=LGBMClassifier(scale_pos_weight=100)\n",
        "lg_model=lgbm.fit(x_train_sampled,y_train_sampled)\n",
        "y_pred=lg_model.predict(x_test)"
      ]
    },
    {
      "cell_type": "code",
      "execution_count": null,
      "metadata": {
        "id": "QwOG59x0j2NC",
        "outputId": "742982ea-2760-4f0b-9f25-42bfd9127350"
      },
      "outputs": [
        {
          "name": "stdout",
          "output_type": "stream",
          "text": [
            "Accuracy Score: 0.9964654799105837\n",
            "f1_score: 0.4548736462093863\n",
            "Precision: 0.3095823095823096\n",
            "Recall: 0.8571428571428571\n",
            "Classification report:\n",
            "               precision    recall  f1-score   support\n",
            "\n",
            "           0       1.00      1.00      1.00     85296\n",
            "           1       0.31      0.86      0.45       147\n",
            "\n",
            "    accuracy                           1.00     85443\n",
            "   macro avg       0.65      0.93      0.73     85443\n",
            "weighted avg       1.00      1.00      1.00     85443\n",
            "\n"
          ]
        },
        {
          "data": {
            "image/png": "[encoded data removed]",
            "text/plain": [
              "<Figure size 1000x800 with 2 Axes>"
            ]
          },
          "metadata": {},
          "output_type": "display_data"
        }
      ],
      "source": [
        "#model evaluation\n",
        "evaluation(y_test,y_pred)"
      ]
    },
    {
      "cell_type": "markdown",
      "metadata": {
        "id": "IebKdCugj2NC"
      },
      "source": [
        "We observe that Lightgbm still doesn't have a better recall score than logistic regression or Decision tree, even with providing a higher weightage to the positive class. Out of all the models we tried so far, Logistic Regression seems to be working the best"
      ]
    },
    {
      "cell_type": "markdown",
      "metadata": {
        "id": "5ZNGKFmFj2NC"
      },
      "source": [
        "Conclusion\n",
        "\n",
        "Out of all the models we saw that Logistic Regression worked the best for us in terms of recall score, though the model had a lot of false positives.\n",
        "\n",
        "The best method to solve the given problem was applying an oversampling technique(SMOTE) and then applying Logistic regression.\n",
        "\n",
        "Tree based models seem to be giving a good f1-score but a poor recall score comparitively\n",
        "\n",
        "Boosting methods seem to be performing the best in terms of having the least amount of false positives."
      ]
    },
    {
      "cell_type": "code",
      "execution_count": null,
      "metadata": {
        "id": "n0O99KGgj2ND"
      },
      "outputs": [],
      "source": []
    },
    {
      "cell_type": "markdown",
      "metadata": {
        "id": "sMIs7GPJj2ND"
      },
      "source": []
    }
  ],
  "metadata": {
    "kernelspec": {
      "display_name": "Python 3",
      "language": "python",
      "name": "python3"
    },
    "language_info": {
      "codemirror_mode": {
        "name": "ipython",
        "version": 3
      },
      "file_extension": ".py",
      "mimetype": "text/x-python",
      "name": "python",
      "nbconvert_exporter": "python",
      "pygments_lexer": "ipython3",
      "version": "3.13.0"
    },
    "colab": {
      "provenance": [],
      "include_colab_link": true
    }
  },
  "nbformat": 4,
  "nbformat_minor": 0
}